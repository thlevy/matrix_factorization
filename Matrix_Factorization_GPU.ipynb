{
 "cells": [
  {
   "cell_type": "markdown",
   "metadata": {
    "collapsed": true
   },
   "source": [
    "# Factorisation de matrice creuse avec descente de gradient stochastique sur GPU\n",
    "**Auteurs:** Thomas Levy & Selim Dekali (17/01/2018)\n",
    "    \n",
    "Ce notebook explique notre projet pour Eléments logiciels pour le traitement des données massives.\n",
    "\n",
    "Nous nous sommes basés sur les articles suivant:\n",
    "* [Hogwild!: A Lock-Free Approach to Parallelizing Stochastic Gradient Descent](https://arxiv.org/pdf/1106.5730v2.pdf)\n",
    "* [CuMF_SGD: Fast and Scalable Matrix Factorization](https://arxiv.org/pdf/1610.05838.pdf)\n",
    "\n",
    "\n",
    "Nous avons utilisé *PyCuda* pour paralléliser l'éxecution sur GPU.\n",
    "        "
   ]
  },
  {
   "cell_type": "markdown",
   "metadata": {
    "collapsed": true
   },
   "source": [
    "## Contexte\n",
    "Le but est de factoriser une matrice R creuse à grande dimension en:\n",
    "R = P x Q\n",
    "![mf.png](mf.png)\n",
    "\n",
    "## Pourquoi?\n",
    "L'intéret est:\n",
    "* d'une part de pouvoir économiser l'espace de stockage en stoquant P et Q de dimension moindre plutot que R de grande dimension.\n",
    "* d'autre part la factorisation de matrice est utiliseé pour les systemes de rating, lorsque l'on veut prédire la valeur des rating inconnus à partir d'un rating connu. \n",
    "C'est pourquoi on parle de matrice R de rating. \n",
    "\n",
    "## Hogwild\n",
    "Hogwild est une approche sans-verrou pour paralléliser le problème avec méthode SGD (de descente de gradient stochastique).\n",
    "Elle repose sur les constatations suivantes:\n",
    "* Pour une matrice creuse de grande taille, la probablilité que des threads concurrents modifient les même lignes ou colonnes de P et Q en même temps est très faible.\n",
    "* De plus, l'impact d'un conflit s'il survenait rarement est négligable sur la précision de l'algorithme.\n",
    "En conséquence, si le nombre de threads paralleles est limité par rapport au nombres d'éléments (non nuls) dans la matrice R, il n'y a pas de besoin de mettre en place de mécanisme de protection particulier vis à vis d'éventuelles écritures concurrentes.\n"
   ]
  },
  {
   "cell_type": "markdown",
   "metadata": {
    "collapsed": true
   },
   "source": [
    "## Algorithmes\n",
    "Nous avons implémenté la factorisation de matrice avec résolution avec une méthode SGD avec Hogwild.\n",
    "\n",
    "Nous avons utilisé les algorithmes suivants:\n",
    "\n",
    "### Version simple (non parallélisée)\n",
    "* Création d'une liste des éléments non creux de la matrice R => samples\n",
    "* Boucle sur le nombre d'itérations:\n",
    "    * shuffle(samples)\n",
    "    * Boucle sur les éléments de samples:\n",
    "        * Evalue l'erreur de prédiction actuelle pour l'élément\n",
    "        * Met à jour les lignes de P et Q correspondant à l'élément avec une descente de gradient \n",
    "\n",
    "### Version distribuée (sur GPU)\n",
    "**Sur CPU:**\n",
    "* Création d'une liste des éléments non creux de la matrice R => samples\n",
    "* Boucle sur le nombre d'itérations:\n",
    "    * shuffle(samples)\n",
    "    * Lance sgd_gpu(samples,P,Q) sur n threads\n",
    "    * Synchronize(all threads)\n",
    "    \n",
    "\n",
    "**Sur GPU sgd_gpu(samples,P,Q):**\n",
    "* Identifie le thread actif => Partie i\n",
    "* Boucle sur les éléments de la partie i de samples:\n",
    "    * Evalue l'erreur de prédiction actuelle pour l'élément\n",
    "    * Met à jour les lignes de P et Q correspondant à l'élément avec une descente de gradient \n"
   ]
  },
  {
   "cell_type": "markdown",
   "metadata": {},
   "source": [
    "## Code PyCuda (Python/C):\n",
    "Import des librairies"
   ]
  },
  {
   "cell_type": "code",
   "execution_count": 1,
   "metadata": {
    "collapsed": true
   },
   "outputs": [],
   "source": [
    "%matplotlib inline\n",
    "\n",
    "import matplotlib.pyplot as plt\n",
    "\n",
    "import numpy as np\n",
    "import pycuda.autoinit\n",
    "import pycuda.driver as cuda\n",
    "from pycuda.compiler import SourceModule\n",
    "import time\n",
    "import random"
   ]
  },
  {
   "cell_type": "markdown",
   "metadata": {},
   "source": [
    "### Function coté GPU (device):"
   ]
  },
  {
   "cell_type": "code",
   "execution_count": 2,
   "metadata": {
    "collapsed": true
   },
   "outputs": [],
   "source": [
    "mod = SourceModule(\"\"\"\n",
    "  #include <stdio.h>\n",
    "\n",
    "  __global__ void sgd_gpu(float *P, float *Q, float alpha, float beta, int k, int nsamples, float *samples, int nThreads, int nBlocks)\n",
    "  {    \n",
    "    int s=0;\n",
    "    int threadId=threadIdx.x;\n",
    "    int blockId=blockIdx.x;\n",
    "    int threadNum= blockId*nThreads + threadId;\n",
    "    for ( s = 0+threadNum; s < nsamples; s = s + ( nThreads * nBlocks )) {\n",
    "     int i=samples[s*3];\n",
    "     int j=samples[s*3+1];\n",
    "     \n",
    "     double rating= samples[s*3+2];\n",
    "     //printf(\"Tid:%d s:%d i:%d j:%d rating:%f\\\\n\",threadId,s,i,j,rating);    \n",
    "     double prediction = 0;\n",
    "     int a;\n",
    "     for( a = 0; a < k; a = a + 1 ){\n",
    "      prediction=prediction+(P[i*k+a]*Q[j*k+a]);\n",
    "      if (a%10==0) {\n",
    "        //printf(\"a:%d pred:%f\\\\n\",a,prediction);\n",
    "      }\n",
    "     }\n",
    "     double e = rating - prediction;\n",
    "     //printf(\"Tid:%d i:%d j:%d rating:%f e:%f %f\\\\n\",threadId,i,j,rating,e,prediction);\n",
    "     for( a = 0; a < k; a = a + 1 ){\n",
    "      P[i*k+a] = P[i*k+a] + alpha * ( 2*e * Q[j*k+a] - beta * P[i*k+a]);\n",
    "      Q[j*k+a] = Q[j*k+a] + alpha * ( 2*e * P[i*k+a] - beta * Q[j*k+a]);                        \n",
    "     }                \n",
    "    }\n",
    "    __syncthreads();      \n",
    "  }         \n",
    "  \"\"\")"
   ]
  },
  {
   "cell_type": "markdown",
   "metadata": {},
   "source": [
    "### Classe de Factorisation coté CPU:\n",
    "Cette classe fait la factorisation de matrice en distribué ou en pur CPU avec les méthodes:\n",
    "* factorize_gpu: en précisant le nombre de threads, blocks utilisés sur GPU \n",
    "* factorize_cpu: factorisation non parallélisée sur CPU\n"
   ]
  },
  {
   "cell_type": "code",
   "execution_count": 3,
   "metadata": {
    "collapsed": true
   },
   "outputs": [],
   "source": [
    "# Class that does matrix factorization\n",
    "class MF():\n",
    "\n",
    "    def __init__(self, R, K, alpha, beta, iterations):\n",
    "        \"\"\"\n",
    "        Contructor\n",
    "\n",
    "        Arguments\n",
    "        - R (ndarray)   : user-item rating matrix\n",
    "        - K (int)       : number of latent dimensions\n",
    "        - alpha (float) : learning rate\n",
    "        - beta (float)  : regularization parameter\n",
    "        \"\"\"\n",
    "\n",
    "        self.R = R.astype(np.float32)\n",
    "        self.num_users, self.num_items = R.shape\n",
    "        self.K = K\n",
    "        self.alpha = alpha\n",
    "        self.beta = beta\n",
    "        self.iterations = iterations\n",
    "        \n",
    "\n",
    "    \n",
    "    def factorize_cpu(self):\n",
    "        # Initialize P & Q\n",
    "        self.P = np.random.normal(scale=1./self.K, size=(self.num_users, self.K))\n",
    "        self.Q = np.random.normal(scale=1./self.K, size=(self.num_items, self.K))\n",
    "\n",
    "\n",
    "        # Create a list of training samples\n",
    "        self.samples = [\n",
    "            (i, j, self.R[i, j])\n",
    "            for i in range(self.num_users)\n",
    "            for j in range(self.num_items)\n",
    "            if self.R[i, j] > 0\n",
    "        ]\n",
    "        \n",
    "        t0 = time.clock()\n",
    "        factorize_steps = []\n",
    "        mse = self.mse2()\n",
    "        step = (0,mse)\n",
    "        factorize_steps.append(step)\n",
    "        print(\"[Factorize_CPU] Initial error = %.4f\" % (mse))\n",
    "        # Perform stochastic gradient descent for number of iterations\n",
    "        #training_process = []\n",
    "        for i in range(self.iterations):\n",
    "            np.random.shuffle(self.samples)\n",
    "            self.sgd2()\n",
    "            mse = self.mse2()\n",
    "            elapsed= time.clock()-t0\n",
    "            #training_process.append((i, mse))\n",
    "            step = (elapsed,mse)\n",
    "            factorize_steps.append(step)\n",
    "            if (i+1) % 5 == 0:\n",
    "                #print(\"Iteration: %d ; error = %.4f\" % (i+1, mse))\n",
    "                #mse = self.mse2()\n",
    "                #elapsed= time.clock()-t0\n",
    "                print(\"Iteration: %d;elapsed = %.2f ; error = %.4f\" % (i+1,elapsed, mse))\n",
    "                #step = (elapsed,mse)\n",
    "                #factorize_steps.append(step)\n",
    "\n",
    "        return factorize_steps\n",
    "\n",
    "    def mse2(self):\n",
    "        # Compute the total mean square error\n",
    "        xs, ys = self.R.nonzero()\n",
    "        predicted = self.full_matrix2()\n",
    "        error = 0\n",
    "        for x, y in zip(xs, ys):\n",
    "            error += pow(self.R[x, y] - predicted[x, y], 2)\n",
    "        return error/len(xs)\n",
    "    \n",
    "\n",
    "    def sgd2(self):\n",
    "        \"\"\"\n",
    "        Perform stochastic gradient descent (on CPU host)\n",
    "        \"\"\"\n",
    "        for i, j, r in self.samples:\n",
    "            # Computer prediction and error\n",
    "            prediction = self.get_rating2(i, j)\n",
    "            e = (r - prediction)\n",
    "\n",
    "            # Update user and item latent feature matrices\n",
    "            self.P[i, :] += self.alpha * (2*e * self.Q[j, :] - self.beta * self.P[i,:])\n",
    "            self.Q[j, :] += self.alpha * (2*e * self.P[i, :] - self.beta * self.Q[j,:])\n",
    "\n",
    "                 \n",
    "    def factorize_gpu(self, nThreads=1, nBlocks=1):\n",
    "        #It does the matrix factorization on gpu\n",
    "        func = mod.get_function(\"sgd_gpu\")\n",
    "        \n",
    "        #Intialize P & Q\n",
    "        self.P = np.random.normal(scale=1.0/self.K, size=(self.num_users, self.K)).astype(np.float32)\n",
    "        self.Q = np.random.normal(scale=1.0/self.K, size=(self.num_items, self.K)).astype(np.float32)       \n",
    "                \n",
    "        # Create a list of training samples\n",
    "        self.samples = [\n",
    "            (i, j, self.R[i, j])\n",
    "            for i in range(self.num_users)\n",
    "            for j in range(self.num_items)\n",
    "            if self.R[i, j] > 0\n",
    "        ]\n",
    "        \n",
    "        #Converted into an array of int32 for passing to GPU\n",
    "        samplesA = np.asarray(self.samples).astype(np.float32)        \n",
    "        nSamples = samplesA.shape[0]\n",
    "        \n",
    "        mse = self.mse2()\n",
    "        print(\"[Factorize_gpu] Initial error = %.4f\" % (mse))\n",
    "        t0 = time.clock()\n",
    "        factorize_steps = []\n",
    "        step = (0,mse)\n",
    "        #factorize_steps.append((0, step))\n",
    "        factorize_steps.append(step)\n",
    "        for i in range(self.iterations):\n",
    "            np.random.shuffle(samplesA)\n",
    "            func(cuda.InOut(self.P), cuda.InOut(self.Q), np.float32(self.alpha), np.float32(self.beta), np.int32(self.K), np.int32(nSamples),cuda.In(samplesA), np.int32(nThreads), np.int32(nBlocks),grid=(nBlocks,1), block=(nThreads,1,1))            \n",
    "            mse = self.mse2()\n",
    "            elapsed= time.clock()-t0\n",
    "            step = (elapsed,mse)\n",
    "            factorize_steps.append(step)\n",
    "            if (i+1) % 5 == 0:\n",
    "                #mse = self.mse2()\n",
    "                #elapsed= time.clock()-t0\n",
    "                print(\"Iteration: %d;elapsed = %.2f ; error = %.4f\" % (i+1,elapsed, mse))\n",
    "                #step = (elapsed,mse)\n",
    "                #factorize_steps.append(step)\n",
    "        return factorize_steps\n",
    "    \n",
    "    \n",
    "    def get_rating2(self, i, j):\n",
    "        \"\"\"\n",
    "        Get the predicted rating of user i and item j\n",
    "        \"\"\"\n",
    "        prediction = self.P[i, :].dot(self.Q[j, :].T)\n",
    "        return prediction\n",
    "\n",
    "    \n",
    "    def full_matrix2(self):\n",
    "        \"\"\"\n",
    "        Computer the full matrix using the resultant biases, P and Q\n",
    "        \"\"\"\n",
    "        return mf.P.dot(mf.Q.T)"
   ]
  },
  {
   "cell_type": "markdown",
   "metadata": {},
   "source": [
    "### Creation d'une matrice aléatoire de test:"
   ]
  },
  {
   "cell_type": "code",
   "execution_count": 4,
   "metadata": {
    "collapsed": true
   },
   "outputs": [],
   "source": [
    "def random_sparse_matrix(shape, ratio_sparse=0.2):\n",
    "    rnd = np.random.binomial(5,0.5,shape[0] * shape[1])\n",
    "    #sparse = 0\n",
    "    for i in range(0, len(rnd)):\n",
    "        x = random.random()\n",
    "        if x> ratio_sparse:\n",
    "            rnd[i] = 0\n",
    "    rnd.resize(shape[0], shape[1])\n",
    "    return rnd\n",
    "\n",
    "\n",
    "R = random_sparse_matrix((200, 200),0.2)"
   ]
  },
  {
   "cell_type": "markdown",
   "metadata": {},
   "source": [
    "### Factorisation sur GPU vs CPU\n",
    "On compare la factorisation de cette matrice en pur CPU avec une factorisation distribuée avec 2 et 32 threads"
   ]
  },
  {
   "cell_type": "code",
   "execution_count": 5,
   "metadata": {},
   "outputs": [
    {
     "name": "stdout",
     "output_type": "stream",
     "text": [
      "[Factorize_gpu] Initial error = 7.7348\n",
      "Iteration: 5;elapsed = 0.94 ; error = 1.0100\n",
      "Iteration: 10;elapsed = 1.84 ; error = 0.8559\n",
      "Iteration: 15;elapsed = 2.75 ; error = 0.4368\n",
      "Iteration: 20;elapsed = 3.65 ; error = 0.1650\n",
      "Iteration: 25;elapsed = 4.56 ; error = 0.0712\n",
      "[Factorize_gpu] Initial error = 7.7344\n",
      "Iteration: 5;elapsed = 0.24 ; error = 1.0152\n",
      "Iteration: 10;elapsed = 0.48 ; error = 0.8894\n",
      "Iteration: 15;elapsed = 0.72 ; error = 0.5122\n",
      "Iteration: 20;elapsed = 0.95 ; error = 0.2004\n",
      "Iteration: 25;elapsed = 1.18 ; error = 0.0870\n",
      "[Factorize_CPU] Initial error = 7.7342\n",
      "Iteration: 5;elapsed = 0.83 ; error = 1.0112\n",
      "Iteration: 10;elapsed = 1.66 ; error = 0.8573\n",
      "Iteration: 15;elapsed = 2.48 ; error = 0.4365\n",
      "Iteration: 20;elapsed = 3.27 ; error = 0.1615\n",
      "Iteration: 25;elapsed = 4.03 ; error = 0.0684\n"
     ]
    },
    {
     "data": {
      "image/png": "[encoded data removed]",
      "text/plain": [
       "<matplotlib.figure.Figure at 0x211e2d54898>"
      ]
     },
     "metadata": {},
     "output_type": "display_data"
    }
   ],
   "source": [
    "mf = MF(R, K=50, alpha=0.01, beta=0.01, iterations=25)\n",
    "\n",
    "steps= mf.factorize_gpu(nThreads=2)\n",
    "steps2= mf.factorize_gpu(nThreads=32)\n",
    "steps3= mf.factorize_cpu()\n",
    "\n",
    "\n",
    "fig=plt.figure(figsize=(12,8))\n",
    "#plt.subplot(111)\n",
    "ax1 = fig.add_subplot(1,1,1)\n",
    "x_val = [x[0] for x in steps]\n",
    "y_val = [x[1] for x in steps]\n",
    "ax1.plot(x_val,y_val,marker='.',linestyle='-',label='GPU 2 threads')\n",
    "x_val = [x[0] for x in steps3]\n",
    "y_val = [x[1] for x in steps3]\n",
    "ax1.plot(x_val,y_val,marker='.',linestyle='-',label='Pur CPU')\n",
    "x_val = [x[0] for x in steps2]\n",
    "y_val = [x[1] for x in steps2]\n",
    "ax1.plot(x_val,y_val,marker='.',linestyle='-',label='GPU 32 threads')\n",
    "ax1.set_xlabel('Temps')\n",
    "ax1.set_ylabel('MSE')\n",
    "ax1.legend(loc='best')\n",
    "plt.show()"
   ]
  },
  {
   "cell_type": "markdown",
   "metadata": {},
   "source": [
    "On constate que le temps de traitement avec 2 threads sur GPU est plus long que pour un traitement non distribué.\n",
    "Donc il y a un cout au passage sur GPU.\n",
    "Mais, avec 32 threads sur GPU, le traitement est déja nettement plus rapide en distribué.\n",
    "\n",
    "### Factorisation sur plusieurs blocs\n",
    "Le traitement etait fait jusqu'à maintenand sur plusieurs threads d'un même bloc, on va vérifier si on peut répartir le traitement sur plusieurs blocs.\n",
    "On va pour cela utiliser une matrice R de grande taille (1000x1000)\n"
   ]
  },
  {
   "cell_type": "code",
   "execution_count": 6,
   "metadata": {},
   "outputs": [
    {
     "name": "stdout",
     "output_type": "stream",
     "text": [
      "[Factorize_gpu] Initial error = 7.7190\n",
      "Iteration: 5;elapsed = 7.01 ; error = 1.0628\n",
      "Iteration: 10;elapsed = 13.87 ; error = 0.4082\n",
      "Iteration: 15;elapsed = 20.79 ; error = 0.1814\n",
      "Iteration: 20;elapsed = 27.61 ; error = 0.1141\n",
      "Iteration: 25;elapsed = 34.52 ; error = 0.0836\n",
      "[Factorize_gpu] Initial error = 7.7190\n",
      "Iteration: 5;elapsed = 5.45 ; error = 1.0702\n",
      "Iteration: 10;elapsed = 10.86 ; error = 0.4132\n",
      "Iteration: 15;elapsed = 16.26 ; error = 0.1809\n",
      "Iteration: 20;elapsed = 21.79 ; error = 0.1145\n",
      "Iteration: 25;elapsed = 27.28 ; error = 0.0826\n",
      "[Factorize_gpu] Initial error = 7.7190\n",
      "Iteration: 5;elapsed = 4.42 ; error = 1.0616\n",
      "Iteration: 10;elapsed = 8.85 ; error = 0.4105\n",
      "Iteration: 15;elapsed = 13.25 ; error = 0.1801\n",
      "Iteration: 20;elapsed = 17.76 ; error = 0.1147\n",
      "Iteration: 25;elapsed = 22.35 ; error = 0.0834\n"
     ]
    },
    {
     "data": {
      "image/png": "[encoded data removed]",
      "text/plain": [
       "<matplotlib.figure.Figure at 0x211ea7bfb38>"
      ]
     },
     "metadata": {},
     "output_type": "display_data"
    }
   ],
   "source": [
    "R2 = random_sparse_matrix((1000, 1000),0.2)\n",
    "mf = MF(R2, K=100, alpha=0.01, beta=0.01, iterations=25)\n",
    "\n",
    "steps3= mf.factorize_gpu(nThreads=32)\n",
    "steps4= mf.factorize_gpu(nThreads=32,nBlocks=2)\n",
    "steps5= mf.factorize_gpu(nThreads=32,nBlocks=8)\n",
    "fig=plt.figure(figsize=(12,8))\n",
    "ax1 = fig.add_subplot(1,1,1)\n",
    "x_val = [x[0] for x in steps3]\n",
    "y_val = [x[1] for x in steps3]\n",
    "ax1.plot(x_val,y_val,marker='.',linestyle='-',label='GPU 32 threadsx1 block')\n",
    "#ax1.plot(*zip(*steps),marker='o',linestyle='-',label='2 threads')\n",
    "x_val = [x[0] for x in steps4]\n",
    "y_val = [x[1] for x in steps4]\n",
    "ax1.plot(x_val,y_val,marker='.',linestyle='-',label='GPU 32 threadsx2 blocks')\n",
    "#ax1.plot(*zip(*steps3),marker='o',linestyle='-',label='Pur CPU')\n",
    "x_val = [x[0] for x in steps5]\n",
    "y_val = [x[1] for x in steps5]\n",
    "ax1.plot(x_val,y_val,marker='.',linestyle='-',label='GPU 32 threadsx8 blocks')\n",
    "ax1.set_xlabel('Temps')\n",
    "ax1.set_ylabel('MSE')\n",
    "ax1.legend(loc='best')\n",
    "plt.show()"
   ]
  },
  {
   "cell_type": "markdown",
   "metadata": {},
   "source": [
    "## Conclusion\n",
    "Grace à cette implémentation, nous avons montré que la performance de l'algo de factorisation de matrice avec SGD et Hogwild augmente significativement lorsque l'algo est distribué sur GPU avec plusieurs threads et plusieurs blocs.\n"
   ]
  },
  {
   "cell_type": "code",
   "execution_count": null,
   "metadata": {
    "collapsed": true
   },
   "outputs": [],
   "source": []
  }
 ],
 "metadata": {
  "kernelspec": {
   "display_name": "Python 3",
   "language": "python",
   "name": "python3"
  },
  "language_info": {
   "codemirror_mode": {
    "name": "ipython",
    "version": 3
   },
   "file_extension": ".py",
   "mimetype": "text/x-python",
   "name": "python",
   "nbconvert_exporter": "python",
   "pygments_lexer": "ipython3",
   "version": "3.6.4"
  }
 },
 "nbformat": 4,
 "nbformat_minor": 2
}
